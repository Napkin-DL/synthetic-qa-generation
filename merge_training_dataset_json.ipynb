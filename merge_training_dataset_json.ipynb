{
 "cells": [
  {
   "cell_type": "code",
   "execution_count": 1,
   "metadata": {},
   "outputs": [],
   "source": [
    "from dotenv import load_dotenv\n",
    "import os, shutil, random\n",
    "from util.preprocess import convert_html_to_md\n",
    "import glob\n",
    "import pandas as pd\n",
    "load_dotenv()\n",
    "\n",
    "dataset_dir = \"dataset\"\n",
    "all_files = glob.glob(os.path.join(dataset_dir, \"*-oai.jsonl\"))\n",
    "#df = pd.concat((pd.read_csv(f) for f in all_files), ignore_index=True)"
   ]
  },
  {
   "cell_type": "markdown",
   "metadata": {},
   "source": [
    "Convert to a base64 image input format that can be recognized by multimodal models such as GPT-4o."
   ]
  },
  {
   "cell_type": "code",
   "execution_count": 21,
   "metadata": {},
   "outputs": [
    {
     "data": {
      "text/plain": [
       "['dataset/cs-prod-spec-s23-oai.jsonl',\n",
       " 'dataset/prod-unst-sales-brochure-oai.jsonl',\n",
       " 'dataset/cs-center-oai.jsonl',\n",
       " 'dataset/cs-prod-spec-s24-oai.jsonl',\n",
       " 'dataset/cs-repair-cost-s23-oai.jsonl',\n",
       " 'dataset/cs-user-manual-s24-oai.jsonl',\n",
       " 'dataset/cs-self-solve-oai.jsonl',\n",
       " 'dataset/cs-st-general-oai.jsonl',\n",
       " 'dataset/cs-user-manual-s23-oai.jsonl',\n",
       " 'dataset/cs-self-repair-s24-oai.jsonl']"
      ]
     },
     "execution_count": 21,
     "metadata": {},
     "output_type": "execute_result"
    }
   ],
   "source": [
    "all_files"
   ]
  },
  {
   "cell_type": "code",
   "execution_count": 2,
   "metadata": {},
   "outputs": [],
   "source": [
    "import json\n",
    "import glob\n",
    "\n",
    "result = []\n",
    "for f in all_files:\n",
    "    with open(f, 'r', encoding='utf-8-sig') as infile:\n",
    "        for line in infile.readlines():\n",
    "            try:\n",
    "                result.append(json.loads(line)) # read each line of the file\n",
    "            except ValueError:\n",
    "                print(f)\n",
    "\n",
    "# This would output jsonl\n",
    "with open('galaxy-s23-s24-training-data-v2.jsonl','w', encoding= 'utf-8-sig') as outfile:\n",
    "    for entry in result:\n",
    "        outfile.write(json.dumps(entry, ensure_ascii=False) + \"\\n\")"
   ]
  }
 ],
 "metadata": {
  "kernelspec": {
   "display_name": "Python 3",
   "language": "python",
   "name": "python3"
  },
  "language_info": {
   "codemirror_mode": {
    "name": "ipython",
    "version": 3
   },
   "file_extension": ".py",
   "mimetype": "text/x-python",
   "name": "python",
   "nbconvert_exporter": "python",
   "pygments_lexer": "ipython3",
   "version": "3.12.2"
  }
 },
 "nbformat": 4,
 "nbformat_minor": 2
}
