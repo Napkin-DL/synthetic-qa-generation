{
 "cells": [
  {
   "cell_type": "markdown",
   "metadata": {},
   "source": [
    "# Generate QnA synthetic dataset from a PDF - Image-heavy PDF "
   ]
  },
  {
   "cell_type": "markdown",
   "metadata": {},
   "source": [
    "### Split PDF into individual pages"
   ]
  },
  {
   "cell_type": "code",
   "execution_count": 1,
   "metadata": {},
   "outputs": [],
   "source": [
    "# import fitz\n",
    "# raw_data_dir = \"raw_data\"\n",
    "\n",
    "# file_path = f\"{raw_data_dir}/prod-unst-pdf/SM-S91X_UM_UU_Kor_Rev.1.1_231205.pdf\"\n",
    "# # Open the first PDF document\n",
    "# doc1 = fitz.open(file_path)\n",
    "# split_pages = [(4, 122), (4, 194)]\n",
    "\n",
    "# for idx, s in enumerate(split_pages):\n",
    "#     # Create a new empty PDF document\n",
    "#     doc2 = fitz.open()\n",
    "\n",
    "#     # Insert the first 2 pages of doc1 into doc2\n",
    "#     doc2.insert_pdf(doc1, from_page=s[0], to_page=s[1])\n",
    "\n",
    "#     # Save the modified document\n",
    "#     doc2.save(f\"{raw_data_dir}/prod-unst-pdf/s23-user-manual-part{idx}.pdf\")"
   ]
  },
  {
   "cell_type": "code",
   "execution_count": 4,
   "metadata": {},
   "outputs": [],
   "source": [
    "from dotenv import load_dotenv\n",
    "import os, shutil, random\n",
    "from langchain_community.document_loaders.csv_loader import CSVLoader\n",
    "from util.preprocess import remove_short_sentences, remove_small_images\n",
    "\n",
    "load_dotenv()\n",
    "\n",
    "image_dir = \"./image\"\n",
    "raw_data_dir = \"raw_data\"\n",
    "\n",
    "if os.path.isdir(image_dir): shutil.rmtree(image_dir)\n",
    "os.makedirs(image_dir, exist_ok=True)"
   ]
  },
  {
   "cell_type": "markdown",
   "metadata": {},
   "source": [
    "### Preprocess PDF file (image part)"
   ]
  },
  {
   "cell_type": "code",
   "execution_count": 5,
   "metadata": {},
   "outputs": [],
   "source": [
    "import fitz\n",
    "from glob import glob\n",
    "\n",
    "file_path = f\"{raw_data_dir}/prod-unst-pdf/[Sales Guide] 2.CXP Brief_Nightography_(S23)_230201.pdf\"\n",
    "\n",
    "doc = fitz.open(file_path)\n",
    "#clip_x, clip_y = 10, 45\n",
    "clip_x, clip_y = 10, 10\n",
    "\n",
    "for i, page in enumerate(doc):\n",
    "    x, y, w, h = page.rect\n",
    "    clip = fitz.Rect(x+clip_x, y+clip_y, w-clip_x, h-clip_y)\n",
    "    page.set_cropbox(clip)\n",
    "    pix = page.get_pixmap()\n",
    "    pix.save(f\"{image_dir}/page_{i:03d}.jpg\")\n",
    "\n",
    "images = sorted(glob(os.path.join(image_dir, \"*.jpg\")))\n",
    "max_tokens = 1024"
   ]
  },
  {
   "cell_type": "code",
   "execution_count": 6,
   "metadata": {},
   "outputs": [],
   "source": [
    "from langchain.schema.output_parser import StrOutputParser\n",
    "from langchain_core.prompts import ChatPromptTemplate, HumanMessagePromptTemplate, SystemMessagePromptTemplate\n",
    "\n",
    "from langchain_openai import AzureChatOpenAI\n",
    "llm = AzureChatOpenAI(\n",
    "    temperature=0, \n",
    "    max_tokens=max_tokens,\n",
    "    openai_api_version=\"2024-05-01-preview\",\n",
    "    azure_deployment=\"gpt-4o\"                       \n",
    ")\n",
    "\n",
    "system_prompt = \"You are an assistant tasked with describing table or image, specialized in Smartphone product.\"\n",
    "system_message_template = SystemMessagePromptTemplate.from_template(system_prompt)\n",
    "human_prompt = [\n",
    "    {\n",
    "        \"type\": \"image_url\",\n",
    "        \"image_url\": {\n",
    "            \"url\": \"data:image/png;base64,\" + \"{image_base64}\",\n",
    "        },\n",
    "    },\n",
    "    {\n",
    "        \"type\": \"text\",\n",
    "        \"text\": '''Given image, give a concise summary in Korean. Don't insert any XML tag such as <text> and </text> when answering.'''\n",
    "    },\n",
    "]\n",
    "human_message_template = HumanMessagePromptTemplate.from_template(human_prompt)\n",
    "\n",
    "prompt = ChatPromptTemplate.from_messages(\n",
    "    [\n",
    "        system_message_template,\n",
    "        human_message_template\n",
    "    ]\n",
    ")\n",
    "\n",
    "summarize_chain = prompt | llm | StrOutputParser()\n",
    "#summarize_chain = {\"image_base64\": lambda x:x} | prompt | llm_text | StrOutputParser()"
   ]
  },
  {
   "cell_type": "code",
   "execution_count": 7,
   "metadata": {},
   "outputs": [
    {
     "name": "stdout",
     "output_type": "stream",
     "text": [
      "CPU times: user 82.1 ms, sys: 32 ms, total: 114 ms\n",
      "Wall time: 4.81 s\n"
     ]
    }
   ],
   "source": [
    "%%time\n",
    "from util.preprocess import encode_image_base64\n",
    "#images = glob(os.path.join(image_dir, \"*.jpg\"))\n",
    "base64_images = [encode_image_base64(img_path) for img_path in images]\n",
    "image_summaries = summarize_chain.batch(base64_images, {\"max_concurrency\": 8})\n",
    "image_summaries = remove_short_sentences(image_summaries)"
   ]
  },
  {
   "cell_type": "code",
   "execution_count": 8,
   "metadata": {},
   "outputs": [
    {
     "data": {
      "text/plain": [
       "['이미지는 스마트폰 제품의 변경 사항을 기록한 표입니다. 주요 변경 사항은 다음과 같습니다:\\n- 2022년 12월 9일: 첫 번째 버전 업로드 (지속적인 업데이트 예정)\\n- 2023년 1월 20일: #6 텍스트 업데이트 (2x Wider ±3° OIS -> 2x Wider OIS)\\n- 2023년 2월 1일: 제품 이름 및 로고 업데이트',\n",
       " '삼성 갤럭시 S23 시리즈의 광고 이미지입니다. \"나이토그래피\"라는 문구와 함께 \"최고의 야간 카메라\"라는 문구가 포함되어 있습니다.',\n",
       " '공유 가능한 멋진 야간 사진을 찍어보세요. S23 시리즈로 밤을 밝히며, 당신의 세계에서 \"비공식 사진작가\"가 되어보세요.']"
      ]
     },
     "execution_count": 8,
     "metadata": {},
     "output_type": "execute_result"
    }
   ],
   "source": [
    "image_summaries[:3]"
   ]
  },
  {
   "cell_type": "markdown",
   "metadata": {},
   "source": [
    "### Preprocess PDF file (text part)"
   ]
  },
  {
   "cell_type": "code",
   "execution_count": 15,
   "metadata": {},
   "outputs": [],
   "source": [
    "from langchain_community.document_loaders import PyMuPDFLoader\n",
    "\n",
    "loader = PyMuPDFLoader(file_path)\n",
    "docs = loader.load()"
   ]
  },
  {
   "cell_type": "code",
   "execution_count": 16,
   "metadata": {},
   "outputs": [
    {
     "name": "stdout",
     "output_type": "stream",
     "text": [
      "Number of splitted docs: 1\n"
     ]
    }
   ],
   "source": [
    "import re\n",
    "import tiktoken\n",
    "from langchain.text_splitter import CharacterTextSplitter, RecursiveCharacterTextSplitter\n",
    "\n",
    "tokenizer = tiktoken.get_encoding('o200k_base')\n",
    "\n",
    "# create the length function\n",
    "def tiktoken_len(text):\n",
    "    tokens = tokenizer.encode(\n",
    "        text,\n",
    "        disallowed_special=()\n",
    "    )\n",
    "    return len(tokens)\n",
    "\n",
    "text_splitter = RecursiveCharacterTextSplitter(\n",
    "    # Set a really small chunk size, just to show.\n",
    "    chunk_size=1024,\n",
    "    chunk_overlap=100,\n",
    "    length_function=tiktoken_len,\n",
    "    separators=[\n",
    "        \"\\n\\n\",\n",
    "        \"\\n\",\n",
    "        \" \",\n",
    "        \".\",\n",
    "        \",\",\n",
    "        \"\\u200b\",  # Zero-width space\n",
    "        \"\\uff0c\",  # Fullwidth comma\n",
    "        \"\\u3001\",  # Ideographic comma\n",
    "        \"\\uff0e\",  # Fullwidth full stop\n",
    "        \"\\u3002\",  # Ideographic full stop\n",
    "        \"\",\n",
    "    ],    \n",
    ")\n",
    "\n",
    "# split_docs = text_splitter.split_documents(docs)\n",
    "# print(f'Number of splitted docs: {len(split_docs)}')\n",
    "\n",
    "a = [re.sub(' +', ' ', doc.page_content) for doc in docs]\n",
    "joined_docs = '\\n\\n'.join(a)\n",
    "\n",
    "split_docs = text_splitter.split_text(joined_docs)\n",
    "print(f'Number of splitted docs: {len(split_docs)}')\n"
   ]
  },
  {
   "cell_type": "code",
   "execution_count": 17,
   "metadata": {},
   "outputs": [
    {
     "data": {
      "text/plain": [
       "['1st version upload (Subject to continuous updates)\\n2022.12.09\\n#6 Text updated (2x Wider ±3° OIS → 2x Wider OIS)\\n2023.01.20\\nProduct name and logo updated\\n2023.02.01\\nTRAINING USE ONLY\\nTRAINING USE ONLY\\nRetail | Training\\n\\n\\nTRAINING USE ONLY\\nTRAINING USE ONLY\\nRetail | Training\\n\\n\\nTRAINING USE ONLY\\nGET SHAREABLE, EPIC SHOTS. \\nBE THE “UNOFFICIAL PHOTOGRAPHER”\\nIN YOUR WORLD.\\nBRIGHTEN UP YOUR NIGHTS\\nWITH THE S23 SERIES.\\n※ “Nightography” is the word that represents the Galaxy’s night \\nshooting experience and brilliant results, not a specific mode name.\\n“Can you send me that?”\\n“Send me too!”\\n“I want to post it!”\\nRetail | Training\\n\\n\\nTRAINING USE ONLY\\nAI Stereo Depth with \\nDual Pixel AF\\nImpressive portrait selfies with \\nprecise, fast focusing (Dual Pixel \\nAF) and stunning bokeh effects \\n(AI Stereo Depth)\\nAI Object-aware Engine\\nAuthentic colors\\nand textures\\nNights are the \\nbest time for selfies\\nRetail | Training\\n\\n\\nTRAINING USE ONLY\\nRecord Saturday night vibes as they really are\\nTack Sharp Video\\nEnhanced sharpness \\nwith reduced noise\\nAdaptive VDIS\\nLess blur in various \\nmovements/brightness\\n2x Wider OIS (Ultra only)\\nEnhanced hand-shake \\ncompensation\\nRetail | Training\\n\\n\\nTRAINING USE ONLY\\nDon’t miss tiny details \\nas the sun goes down\\nSuper HDR\\n4x richer dynamic range via multi-frame \\ncombination of high-resolution 50MP photos\\nDetail Enhancer\\nAdds extra details \\nusing AI\\n* Super HDR and Detail Enhancer \\nautomatically applied by default.\\nRetail | Training\\n\\n\\nCheck out the outstanding results \\ntaken by S23 Series.\\n※ All images are from the Gallery app of the Live Demo Unit.\\nTRAINING USE ONLY\\nRetail | Training']"
      ]
     },
     "execution_count": 17,
     "metadata": {},
     "output_type": "execute_result"
    }
   ],
   "source": [
    "split_docs[:5]"
   ]
  },
  {
   "cell_type": "markdown",
   "metadata": {},
   "source": [
    "### Construct QnA Pairs\n"
   ]
  },
  {
   "cell_type": "code",
   "execution_count": 18,
   "metadata": {},
   "outputs": [],
   "source": [
    "from langchain_openai import AzureChatOpenAI\n",
    "from langchain_core.runnables import RunnablePassthrough, RunnableLambda\n",
    "from langchain_core.output_parsers import JsonOutputParser\n",
    "from langchain.callbacks.streaming_stdout import StreamingStdOutCallbackHandler\n",
    "\n",
    "from util.qa_pair import get_qna_prompt_template, QAPair\n",
    "\n",
    "llm = AzureChatOpenAI(\n",
    "    temperature=0, \n",
    "    max_tokens=1024,\n",
    "    openai_api_version=\"2024-05-01-preview\",\n",
    "    azure_deployment=\"gpt-4o\"                       \n",
    ")\n",
    "\n",
    "parser = JsonOutputParser(pydantic_object=QAPair)\n",
    "prompt = get_qna_prompt_template()\n",
    "#prompt = get_qna_repair_cost_prompt_template()\n",
    "chain = prompt | llm | parser"
   ]
  },
  {
   "cell_type": "code",
   "execution_count": 19,
   "metadata": {},
   "outputs": [],
   "source": [
    "input_batch = []\n",
    "\n",
    "for doc in split_docs:\n",
    "    dic = {\"context\": doc, \"domain\": \"Samsung Galaxy S series Smartphone\", \"num_questions\": \"3\"}\n",
    "    input_batch.append(dic)\n",
    "\n",
    "#for doc in image_summaries_tiktoken:\n",
    "for doc in image_summaries:\n",
    "    dic = {\"context\": doc, \"domain\": \"Samsung Galaxy S series Smartphone\", \"num_questions\": \"3\"}\n",
    "    input_batch.append(dic)\n"
   ]
  },
  {
   "cell_type": "code",
   "execution_count": 20,
   "metadata": {},
   "outputs": [],
   "source": [
    "%%time\n",
    "qa_pair = chain.batch(input_batch, {\"max_concurrency\": 8})"
   ]
  },
  {
   "cell_type": "markdown",
   "metadata": {},
   "source": [
    "### Save to jsonl for fine-tuning"
   ]
  },
  {
   "cell_type": "code",
   "execution_count": 85,
   "metadata": {},
   "outputs": [],
   "source": [
    "import json\n",
    "from util.common_utils import convert_to_oai_format, save_jsonl\n",
    "\n",
    "output_dir = './dataset'\n",
    "os.makedirs(output_dir, exist_ok=True)\n",
    "\n",
    "system_prompt_msg = \"\"\"You are an AI assistant that is familiar with the details of the user manual for your Galaxy mobile phone.\n",
    "Please answer the questions accurately. If the question is in Korean, write your answer in Korean. If the question is in English, write your answer in English.\n",
    "\"\"\"\n",
    "# system_prompt_msg = \"\"\"You are an AI assistant that guides users on how to self-repair their Galaxy series mobile phones.\n",
    "# Please answer the questions accurately. If the question is in Korean, write your answer in Korean. If the question is in English, write your answer in English.\n",
    "# \"\"\"\n",
    "\n",
    "save_filename = \"cs-prod-qna-handling2-s24\"\n",
    "oai_qa_pair = convert_to_oai_format(qa_pair, system_prompt_msg=system_prompt_msg)\n",
    "\n",
    "#save_jsonl(qa_pair, f\"{output_dir}/{save_filename}.jsonl\")\n",
    "save_jsonl(oai_qa_pair, f\"{output_dir}/{save_filename}-oai.jsonl\")"
   ]
  }
 ],
 "metadata": {
  "kernelspec": {
   "display_name": "Python 3",
   "language": "python",
   "name": "python3"
  },
  "language_info": {
   "codemirror_mode": {
    "name": "ipython",
    "version": 3
   },
   "file_extension": ".py",
   "mimetype": "text/x-python",
   "name": "python",
   "nbconvert_exporter": "python",
   "pygments_lexer": "ipython3",
   "version": "3.12.2"
  }
 },
 "nbformat": 4,
 "nbformat_minor": 2
}
