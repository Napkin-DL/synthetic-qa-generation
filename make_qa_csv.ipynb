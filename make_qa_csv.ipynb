{
 "cells": [
  {
   "cell_type": "markdown",
   "metadata": {},
   "source": [
    "# Generate QnA synthetic dataset from CSV\n",
    "\n",
    "This is another common case. If image url information is included, change this url to a summary result for that image."
   ]
  },
  {
   "cell_type": "code",
   "execution_count": 2,
   "metadata": {},
   "outputs": [],
   "source": [
    "from dotenv import load_dotenv\n",
    "import os, shutil, random\n",
    "from unstructured.cleaners.core import clean_bullets, clean_extra_whitespace, remove_punctuation\n",
    "from langchain_community.document_loaders import UnstructuredFileLoader, UnstructuredMarkdownLoader, UnstructuredAPIFileLoader\n",
    "from langchain_community.document_loaders.csv_loader import CSVLoader, UnstructuredCSVLoader\n",
    "from util.preprocess import convert_html_to_md\n",
    "\n",
    "load_dotenv()\n",
    "raw_data_dir = \"raw_data\"\n",
    "file_path = f\"{raw_data_dir}/prod-st-excel/pivot_spec_mx_smartphone_s24.csv\""
   ]
  },
  {
   "cell_type": "markdown",
   "metadata": {},
   "source": [
    "\n",
    "## 1. Read & Preprocess CSV file\n",
    "---"
   ]
  },
  {
   "cell_type": "code",
   "execution_count": 3,
   "metadata": {},
   "outputs": [
    {
     "name": "stdout",
     "output_type": "stream",
     "text": [
      "CPU times: user 5.65 ms, sys: 1.87 ms, total: 7.52 ms\n",
      "Wall time: 21.6 ms\n"
     ]
    }
   ],
   "source": [
    "%%time\n",
    "\n",
    "loader = CSVLoader(\n",
    "    file_path=file_path,\n",
    "    csv_args={\n",
    "        \"delimiter\": \",\",\n",
    "        \"quotechar\": '\"',\n",
    "    },    \n",
    ")\n",
    "docs = loader.load()"
   ]
  },
  {
   "cell_type": "code",
   "execution_count": 4,
   "metadata": {},
   "outputs": [
    {
     "name": "stdout",
     "output_type": "stream",
     "text": [
      "모델코드: SM-S921NLBEKOO\n",
      "운영체제: Android\n",
      "센서: 가속도 센서,기압 센서,지문 센서,자이로 센서,지자기 센서,홀 센서,조도 센서,근접 센서\n",
      "S펜 지원: 없음\n",
      "디스플레이\\_크기 (Main Display): 156.4 mm\n",
      "디스플레이\\_해상도 (Main): 2340 x 1080 (FHD+)\n",
      "디스플레이\\_종류 (Main): Dynamic AMOLED 2X\n",
      "디스플레이\\_색심도 (Main): 16 M\n",
      "프로세서\\_CPU 속도: 3.2 GHz,2.9 GHz,2.6 GHz,1.95 GHz\n",
      "프로세서\\_CPU 종류: Deca-Core\n",
      "카메라\\_후면 카메라 - 화소 (Multiple): 50.0 MP + 10.0 MP + 12.0 MP\n",
      "카메라\\_후면 카메라 - 조리개 값 (Multiple): F1.8 , F2.4 , F2.2\n",
      "카메라\\_후면 카메라 - 오토 포커스: 예\n",
      "카메라\\_후면 카메라 - OIS: 예\n",
      "카메라\\_후면 카메라 줌: 없음\n",
      "카메라\\_전면 카메라 - 화소: 12.0 MP\n",
      "카메라\\_전면 카메라 - 조리개 값: F2.2\n",
      "카메라\\_전면 카메라 - 오토 포커스: 예\n",
      "카메라\\_전면 카메라 - OIS: 없음\n",
      "카메라\\_후면 카메라 - 플래쉬: 예\n",
      "카메라\\_전면 카메라 - 플래쉬: 없음\n",
      "카메라\\_동영상 녹화 해상도: UHD 8K (7680 x 4320) @30fps\n",
      "메모리/스토리지(저장 용량)\\_메모리 (GB): 8 GB\n",
      "메모리/스토리지(저장 용량)\\_스토리지(저장 용량) (GB): 256 GB\n",
      "메모리/스토리지(저장 용량)\\_사용 가능한 스토리지(저장 용량) (GB): 232.7 GB\n",
      "메모리/스토리지(저장 용량)\\_외장 스토리지(저장 용량) 지원: 없음\n",
      "네트워크\\_SIM 개수: Dual-SIM\n",
      "네트워크\\_SIM 사이즈: 없음\n",
      "네트워크\\_SIM 슬롯 타입: SIM 1 + eSIM / Dual eSIM\n",
      "네트워크 (S/W 사용)\\_2G GSM: GSM850,GSM900,DCS1800,PCS1900\n",
      "네트워크 (S/W 사용)\\_3G UMTS: B1(2100),B2(1900),B4(AWS),B5(850),B8(900)\n",
      "네트워크 (S/W 사용)\\_4G FDD LTE: B1(2100),B2(1900),B3(1800),B4(AWS),B5(850),B7(2600),B8(900),B12(700),B13(700),B17(700),B18(800),B19(800),B20(800),B25(1900),B26(850),B28(700),B66(AWS-3)\n",
      "네트워크 (S/W 사용)\\_4G TDD LTE: B38(2600),B39(1900),B40(2300),B41(2500)\n",
      "연결\\_USB 인터페이스: USB Type-C\n",
      "연결\\_USB 버전: USB 3.2 Gen 1\n",
      "연결\\_위치 기술: GPS,Glonass,Beidou,Galileo,QZSS\n",
      "연결\\_이어잭: USB Type-C\n",
      "연결\\_MHL: 아니오\n",
      "연결\\_Wi-Fi: 802.11a/b/g/n/ac/ax 2.4GHz+5GHz+6GHz, HE160, MIMO, 1024-QAM\n",
      "연결\\_Wi-Fi Direct: 예\n",
      "연결\\_블루투스 버전: Bluetooth v5.3\n",
      "연결\\_NFC: 예\n",
      "연결\\_PC 싱크: Smart Switch (PC version)\n",
      "기본 사양\\_색상: 사파이어 블루\n",
      "기본 사양\\_형태: 터치 바\n",
      "외관 사양\\_크기(세로x가로x두께, mm): 147.0 x 70.6 x 7.6\n",
      "외관 사양\\_무게(g): 167\n",
      "배터리\\_인터넷 사용 시간(LTE) (Hours): 최대 25\n",
      "배터리\\_인터넷 사용 시간(Wi-Fi) (Hours): 최대 25\n",
      "배터리\\_비디오 재생 시간 (Hours): 없음\n",
      "배터리\\_배터리 용량(mAh, Typical): 4000\n",
      "배터리\\_교체 가능: 아니오\n",
      "배터리\\_오디오 재생 시간 (Hours): 없음\n",
      "배터리\\_연속 통화시간(4G LTE) (Hours): 없음\n",
      "오디오/비디오\\_스테레오 지원: 예\n",
      "오디오/비디오\\_동영상 지원 포맷: MP4,M4V,3GP,3G2,AVI,FLV,MKV,WEBM\n",
      "오디오/비디오\\_동영상 지원 해상도: UHD 8K (7680 x 4320) @60fps\n",
      "오디오/비디오\\_오디오 지원 포맷: MP3,M4A,3GA,AAC,OGG,OGA,WAV,AMR,AWB,FLAC,MID,MIDI,XMF,MXMF,IMY,RTTTL,RTX,OTA,DFF,DSF,APE\n",
      "서비스\\_Gear 서포트: 갤럭시 버즈2 프로,갤럭시 버즈 프로,갤럭시 버즈 라이브,갤럭시 버즈+,갤럭시 버즈2,갤럭시 버즈,갤럭시 버즈 FE,갤럭시 핏2,갤럭시 핏e,갤럭시 핏,갤럭시 워치6,갤럭시 워치5,갤럭시 워치4,갤럭시 워치3,갤럭시 워치,갤럭시 워치 액티브2,갤럭시 워치 액티브\n",
      "서비스\\_삼성 덱스 서포트: 지원\n",
      "서비스\\_모바일 TV: 아니오\n",
      "디스플레이\\_크기 (Sub): 없음\n",
      "디스플레이\\_해상도 (Sub): 없음\n",
      "디스플레이\\_종류 (Sub): 없음\n",
      "디스플레이\\_색심도 (Sub): 없음\n",
      "디스플레이\\_최대 주사율 (Main): 120 Hz\n",
      "카메라\\_후면 카메라 - 줌: 3배 광학 줌, 광학 줌 수준의 2배 줌(적응형 픽셀 센서 활용), 최대 30배 디지털 줌\n",
      "카메라\\_슬로우 모션: 240fps @FHD,120fps @UHD\n",
      "네트워크 (S/W 사용)\\_5G TDD Sub6: N38(2600),N40(2300),N41(2500),N77(3700),N78(3500)\n",
      "외관 사양\\_접힌 상태시 크기(세로x가로x두께, mm): 없음\n",
      "배터리\\_비디오 재생 시간 (Hours, Wireless): 최대 29\n",
      "배터리\\_오디오 재생 시간 (Hours, Wireless): 최대 78\n",
      "카메라\\_커버 카메라 - 화소: 없음\n",
      "카메라\\_커버 카메라 - 조리개 값: 없음\n",
      "카메라\\_커버 카메라 - 오토 포커스: 없음\n",
      "카메라\\_언더 디스플레이 카메라 - 화소: 없음\n",
      "카메라\\_언더 디스플레이 카메라 - 조리개 값: 없음\n",
      "카메라\\_언더 디스플레이 카메라 - 오토 포커스: 없음\n",
      "카메라\\_언더 디스플레이 카메라 - OIS: 없음\n",
      "연결\\_UWB (Ultra-Wideband): 없음\n",
      "카메라\\_후면 카메라 - Laser AF 센서: 없음\n",
      "네트워크 (S/W 사용)\\_5G FDD Sub6: N1(2100),N2(1900),N3(1800),N5(850),N7(2600),N8(900),N12(700),N20(800),N25(1900),N26(850),N28(700),N66(AWS-3)\n",
      "네트워크\\_인프라: 없음\n",
      "서비스\\_블루투스 보청기 지원: 보청기용 안드로이드 오디오 스트리밍(ASHA)\n",
      "프로세서\\_CPU: 없음\n",
      "서비스\\_SmartThings 지원: 지원\n",
      "라인업: 갤럭시 S\n",
      "시리즈: 갤럭시 S24\n",
      "상품명: 갤럭시 S24 자급제 (삼성닷컴/삼성 강남 전용컬러)\n",
      "Content: 모델코드 : SM-S921NLBEKOO, 운영체제 : Android, 센서 : 가속도 센서,기압 센서,지문 센서,자이로 센서,지자기 센서,홀 센서,조도 센서,근접 센서, S펜 지원 : 없음, 디스플레이\\_크기 (Main Display) : 156.4 mm, 디스플레이\\_해상도 (Main) : 2340 x 1080 (FHD+), 디스플레이\\_종류 (Main) : Dynamic AMOLED 2X, 디스플레이\\_색심도 (Main) : 16 M, 프로세서\\_CPU 속도 : 3.2 GHz,2.9 GHz,2.6 GHz,1.95 GHz, 프로세서\\_CPU 종류 : Deca-Core, 카메라\\_후면 카메라 - 화소 (Multiple) : 50.0 MP + 10.0 MP + 12.0 MP, 카메라\\_후면 카메라 - 조리개 값 (Multiple) : F1.8 , F2.4 , F2.2, 카메라\\_후면 카메라 - 오토 포커스 : 예, 카메라\\_후면 카메라 - OIS : 예, 카메라\\_후면 카메라 줌 : 없음, 카메라\\_전면 카메라 - 화소 : 12.0 MP, 카메라\\_전면 카메라 - 조리개 값 : F2.2, 카메라\\_전면 카메라 - 오토 포커스 : 예, 카메라\\_전면 카메라 - OIS : 없음, 카메라\\_후면 카메라 - 플래쉬 : 예, 카메라\\_전면 카메라 - 플래쉬 : 없음, 카메라\\_동영상 녹화 해상도 : UHD 8K (7680 x 4320) @30fps, 메모리/스토리지(저장 용량)\\_메모리 (GB) : 8 GB, 메모리/스토리지(저장 용량)\\_스토리지(저장 용량) (GB) : 256 GB, 메모리/스토리지(저장 용량)\\_사용 가능한 스토리지(저장 용량) (GB) : 232.7 GB, 메모리/스토리지(저장 용량)\\_외장 스토리지(저장 용량) 지원 : 없음, 네트워크\\_SIM 개수 : Dual-SIM, 네트워크\\_SIM 사이즈 : 없음, 네트워크\\_SIM 슬롯 타입 : SIM 1 + eSIM / Dual eSIM, 네트워크 (S/W 사용)\\_2G GSM : GSM850,GSM900,DCS1800,PCS1900, 네트워크 (S/W 사용)\\_3G UMTS : B1(2100),B2(1900),B4(AWS),B5(850),B8(900), 네트워크 (S/W 사용)\\_4G FDD LTE : B1(2100),B2(1900),B3(1800),B4(AWS),B5(850),B7(2600),B8(900),B12(700),B13(700),B17(700),B18(800),B19(800),B20(800),B25(1900),B26(850),B28(700),B66(AWS-3), 네트워크 (S/W 사용)\\_4G TDD LTE : B38(2600),B39(1900),B40(2300),B41(2500), 연결\\_USB 인터페이스 : USB Type-C, 연결\\_USB 버전 : USB 3.2 Gen 1, 연결\\_위치 기술 : GPS,Glonass,Beidou,Galileo,QZSS, 연결\\_이어잭 : USB Type-C, 연결\\_MHL : 아니오, 연결\\_Wi-Fi : 802.11a/b/g/n/ac/ax 2.4GHz+5GHz+6GHz, HE160, MIMO, 1024-QAM, 연결\\_Wi-Fi Direct : 예, 연결\\_블루투스 버전 : Bluetooth v5.3, 연결\\_NFC : 예, 연결\\_PC 싱크 : Smart Switch (PC version), 기본 사양\\_색상 : 사파이어 블루, 기본 사양\\_형태 : 터치 바, 외관 사양\\_크기(세로x가로x두께, mm) : 147.0 x 70.6 x 7.6, 외관 사양\\_무게(g) : 167, 배터리\\_인터넷 사용 시간(LTE) (Hours) : 최대 25, 배터리\\_인터넷 사용 시간(Wi-Fi) (Hours) : 최대 25, 배터리\\_비디오 재생 시간 (Hours) : 없음, 배터리\\_배터리 용량(mAh, Typical) : 4000, 배터리\\_교체 가능 : 아니오, 배터리\\_오디오 재생 시간 (Hours) : 없음, 배터리\\_연속 통화시간(4G LTE) (Hours) : 없음, 오디오/비디오\\_스테레오 지원 : 예, 오디오/비디오\\_동영상 지원 포맷 : MP4,M4V,3GP,3G2,AVI,FLV,MKV,WEBM, 오디오/비디오\\_동영상 지원 해상도 : UHD 8K (7680 x 4320) @60fps, 오디오/비디오\\_오디오 지원 포맷 : MP3,M4A,3GA,AAC,OGG,OGA,WAV,AMR,AWB,FLAC,MID,MIDI,XMF,MXMF,IMY,RTTTL,RTX,OTA,DFF,DSF,APE, 서비스\\_Gear 서포트 : 갤럭시 버즈2 프로,갤럭시 버즈 프로,갤럭시 버즈 라이브,갤럭시 버즈+,갤럭시 버즈2,갤럭시 버즈,갤럭시 버즈 FE,갤럭시 핏2,갤럭시 핏e,갤럭시 핏,갤럭시 워치6,갤럭시 워치5,갤럭시 워치4,갤럭시 워치3,갤럭시 워치,갤럭시 워치 액티브2,갤럭시 워치 액티브, 서비스\\_삼성 덱스 서포트 : 지원, 서비스\\_모바일 TV : 아니오, 디스플레이\\_크기 (Sub) : 없음, 디스플레이\\_해상도 (Sub) : 없음, 디스플레이\\_종류 (Sub) : 없음, 디스플레이\\_색심도 (Sub) : 없음, 디스플레이\\_최대 주사율 (Main) : 120 Hz, 카메라\\_후면 카메라 - 줌 : 3배 광학 줌, 광학 줌 수준의 2배 줌(적응형 픽셀 센서 활용), 최대 30배 디지털 줌, 카메라\\_슬로우 모션 : 240fps @FHD,120fps @UHD, 네트워크 (S/W 사용)\\_5G TDD Sub6 : N38(2600),N40(2300),N41(2500),N77(3700),N78(3500), 외관 사양\\_접힌 상태시 크기(세로x가로x두께, mm) : 없음, 배터리\\_비디오 재생 시간 (Hours, Wireless) : 최대 29, 배터리\\_오디오 재생 시간 (Hours, Wireless) : 최대 78, 카메라\\_커버 카메라 - 화소 : 없음, 카메라\\_커버 카메라 - 조리개 값 : 없음, 카메라\\_커버 카메라 - 오토 포커스 : 없음, 카메라\\_언더 디스플레이 카메라 - 화소 : 없음, 카메라\\_언더 디스플레이 카메라 - 조리개 값 : 없음, 카메라\\_언더 디스플레이 카메라 - 오토 포커스 : 없음, 카메라\\_언더 디스플레이 카메라 - OIS : 없음, 연결\\_UWB (Ultra-Wideband) : 없음, 카메라\\_후면 카메라 - Laser AF 센서 : 없음, 네트워크 (S/W 사용)\\_5G FDD Sub6 : N1(2100),N2(1900),N3(1800),N5(850),N7(2600),N8(900),N12(700),N20(800),N25(1900),N26(850),N28(700),N66(AWS-3), 네트워크\\_인프라 : 없음, 서비스\\_블루투스 보청기 지원 : 보청기용 안드로이드 오디오 스트리밍(ASHA), 프로세서\\_CPU : 없음, 서비스\\_SmartThings 지원 : 지원, 라인업 : 갤럭시 S, 시리즈 : 갤럭시 S24, 상품명 : 갤럭시 S24 자급제 (삼성닷컴/삼성 강남 전용컬러)\n"
     ]
    }
   ],
   "source": [
    "preprocessed_docs = []\n",
    "for doc in docs:\n",
    "    md = convert_html_to_md(doc.page_content)\n",
    "    preprocessed_docs.append(md)\n",
    "\n",
    "print(preprocessed_docs[0])"
   ]
  },
  {
   "cell_type": "markdown",
   "metadata": {},
   "source": [
    "## 2. Construct QnA Pairs\n",
    "---"
   ]
  },
  {
   "cell_type": "code",
   "execution_count": 5,
   "metadata": {},
   "outputs": [],
   "source": [
    "from langchain_openai import AzureChatOpenAI\n",
    "from langchain_core.runnables import RunnablePassthrough, RunnableLambda\n",
    "from langchain_core.output_parsers import JsonOutputParser\n",
    "from langchain.callbacks.streaming_stdout import StreamingStdOutCallbackHandler\n",
    "\n",
    "from util.qa_pair import get_qna_prompt_template, QAPair\n",
    "\n",
    "llm = AzureChatOpenAI(\n",
    "    temperature=0, \n",
    "    max_tokens=1024,\n",
    "    openai_api_version=\"2024-05-01-preview\",\n",
    "    azure_deployment=\"gpt-4o\"                       \n",
    ")\n",
    "\n",
    "parser = JsonOutputParser(pydantic_object=QAPair)\n",
    "prompt = get_qna_prompt_template()\n",
    "chain = prompt | llm | parser"
   ]
  },
  {
   "cell_type": "markdown",
   "metadata": {},
   "source": [
    "Prepare input batch"
   ]
  },
  {
   "cell_type": "code",
   "execution_count": 6,
   "metadata": {},
   "outputs": [],
   "source": [
    "input_batch = []\n",
    "\n",
    "for doc in preprocessed_docs:\n",
    "    dic = {\"context\": doc, \"domain\": \"Samsung Galaxy S series Smartphone\", \"num_questions\": \"1\"}\n",
    "    input_batch.append(dic)"
   ]
  },
  {
   "cell_type": "code",
   "execution_count": 9,
   "metadata": {},
   "outputs": [],
   "source": [
    "%%time\n",
    "qa_pair = chain.batch(input_batch, {\"max_concurrency\": 5})"
   ]
  },
  {
   "cell_type": "code",
   "execution_count": 10,
   "metadata": {},
   "outputs": [],
   "source": [
    "# Remove duplicate items\n",
    "qa_pair = [dict(t) for t in {tuple(d.items()) for d in qa_pair}]\n"
   ]
  },
  {
   "cell_type": "markdown",
   "metadata": {},
   "source": [
    "## 3. Save to jsonl for fine-tuning\n",
    "---"
   ]
  },
  {
   "cell_type": "code",
   "execution_count": null,
   "metadata": {},
   "outputs": [],
   "source": [
    "import json\n",
    "from util.common_utils import convert_to_oai_format, save_jsonl\n",
    "\n",
    "output_dir = './dataset'\n",
    "os.makedirs(output_dir, exist_ok=True)\n",
    "\n",
    "system_prompt_msg = \"You are an AI assistant that guides product specifications for the Galaxy series.\"\n",
    "#system_prompt_msg = \"You're an AI assistant that guides a user to general information of Galaxy Series.\"\n",
    "save_filename = \"cs-prod-spec-s24\"\n",
    "oai_qa_pair = convert_to_oai_format(qa_pair)\n",
    "\n",
    "save_jsonl(qa_pair, f\"{output_dir}/{save_filename}.jsonl\")\n",
    "save_jsonl(oai_qa_pair, f\"{output_dir}/{save_filename}-oai.jsonl\")"
   ]
  }
 ],
 "metadata": {
  "kernelspec": {
   "display_name": "Python 3",
   "language": "python",
   "name": "python3"
  },
  "language_info": {
   "codemirror_mode": {
    "name": "ipython",
    "version": 3
   },
   "file_extension": ".py",
   "mimetype": "text/x-python",
   "name": "python",
   "nbconvert_exporter": "python",
   "pygments_lexer": "ipython3",
   "version": "3.12.2"
  }
 },
 "nbformat": 4,
 "nbformat_minor": 2
}
